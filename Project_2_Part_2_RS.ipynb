{
  "nbformat": 4,
  "nbformat_minor": 0,
  "metadata": {
    "colab": {
      "provenance": [],
      "collapsed_sections": [],
      "mount_file_id": "1ewCLVKrDgBmJ153DQ72xUFOJFF9sG2uA",
      "authorship_tag": "ABX9TyPqL1WjC1VlKhnT5UwvYBXi",
      "include_colab_link": true
    },
    "kernelspec": {
      "name": "python3",
      "display_name": "Python 3"
    },
    "language_info": {
      "name": "python"
    }
  },
  "cells": [
    {
      "cell_type": "markdown",
      "metadata": {
        "id": "view-in-github",
        "colab_type": "text"
      },
      "source": [
        "<a href=\"https://colab.research.google.com/github/Richard-Shimada/Project-2/blob/main/Project_2_Part_2_RS.ipynb\" target=\"_parent\"><img src=\"https://colab.research.google.com/assets/colab-badge.svg\" alt=\"Open In Colab\"/></a>"
      ]
    },
    {
      "cell_type": "code",
      "execution_count": null,
      "metadata": {
        "id": "-5PcW1Ii2vjo",
        "colab": {
          "base_uri": "https://localhost:8080/",
          "height": 224
        },
        "outputId": "3ee193e3-0b8d-464e-8dbb-4bb1ba5b94ae"
      },
      "outputs": [
        {
          "output_type": "stream",
          "name": "stdout",
          "text": [
            "Drive already mounted at /content/drive; to attempt to forcibly remount, call drive.mount(\"/content/drive\", force_remount=True).\n"
          ]
        },
        {
          "output_type": "execute_result",
          "data": {
            "text/plain": [
              "   Age Sex ChestPainType  RestingBP  Cholesterol  FastingBS RestingECG  MaxHR  \\\n",
              "0   40   M           ATA        140          289          0     Normal    172   \n",
              "1   49   F           NAP        160          180          0     Normal    156   \n",
              "2   37   M           ATA        130          283          0         ST     98   \n",
              "3   48   F           ASY        138          214          0     Normal    108   \n",
              "4   54   M           NAP        150          195          0     Normal    122   \n",
              "\n",
              "  ExerciseAngina  Oldpeak ST_Slope  HeartDisease  \n",
              "0              N      0.0       Up             0  \n",
              "1              N      1.0     Flat             1  \n",
              "2              N      0.0       Up             0  \n",
              "3              Y      1.5     Flat             1  \n",
              "4              N      0.0       Up             0  "
            ],
            "text/html": [
              "\n",
              "  <div id=\"df-b7c8b091-d19b-4016-896c-577a74b93d45\">\n",
              "    <div class=\"colab-df-container\">\n",
              "      <div>\n",
              "<style scoped>\n",
              "    .dataframe tbody tr th:only-of-type {\n",
              "        vertical-align: middle;\n",
              "    }\n",
              "\n",
              "    .dataframe tbody tr th {\n",
              "        vertical-align: top;\n",
              "    }\n",
              "\n",
              "    .dataframe thead th {\n",
              "        text-align: right;\n",
              "    }\n",
              "</style>\n",
              "<table border=\"1\" class=\"dataframe\">\n",
              "  <thead>\n",
              "    <tr style=\"text-align: right;\">\n",
              "      <th></th>\n",
              "      <th>Age</th>\n",
              "      <th>Sex</th>\n",
              "      <th>ChestPainType</th>\n",
              "      <th>RestingBP</th>\n",
              "      <th>Cholesterol</th>\n",
              "      <th>FastingBS</th>\n",
              "      <th>RestingECG</th>\n",
              "      <th>MaxHR</th>\n",
              "      <th>ExerciseAngina</th>\n",
              "      <th>Oldpeak</th>\n",
              "      <th>ST_Slope</th>\n",
              "      <th>HeartDisease</th>\n",
              "    </tr>\n",
              "  </thead>\n",
              "  <tbody>\n",
              "    <tr>\n",
              "      <th>0</th>\n",
              "      <td>40</td>\n",
              "      <td>M</td>\n",
              "      <td>ATA</td>\n",
              "      <td>140</td>\n",
              "      <td>289</td>\n",
              "      <td>0</td>\n",
              "      <td>Normal</td>\n",
              "      <td>172</td>\n",
              "      <td>N</td>\n",
              "      <td>0.0</td>\n",
              "      <td>Up</td>\n",
              "      <td>0</td>\n",
              "    </tr>\n",
              "    <tr>\n",
              "      <th>1</th>\n",
              "      <td>49</td>\n",
              "      <td>F</td>\n",
              "      <td>NAP</td>\n",
              "      <td>160</td>\n",
              "      <td>180</td>\n",
              "      <td>0</td>\n",
              "      <td>Normal</td>\n",
              "      <td>156</td>\n",
              "      <td>N</td>\n",
              "      <td>1.0</td>\n",
              "      <td>Flat</td>\n",
              "      <td>1</td>\n",
              "    </tr>\n",
              "    <tr>\n",
              "      <th>2</th>\n",
              "      <td>37</td>\n",
              "      <td>M</td>\n",
              "      <td>ATA</td>\n",
              "      <td>130</td>\n",
              "      <td>283</td>\n",
              "      <td>0</td>\n",
              "      <td>ST</td>\n",
              "      <td>98</td>\n",
              "      <td>N</td>\n",
              "      <td>0.0</td>\n",
              "      <td>Up</td>\n",
              "      <td>0</td>\n",
              "    </tr>\n",
              "    <tr>\n",
              "      <th>3</th>\n",
              "      <td>48</td>\n",
              "      <td>F</td>\n",
              "      <td>ASY</td>\n",
              "      <td>138</td>\n",
              "      <td>214</td>\n",
              "      <td>0</td>\n",
              "      <td>Normal</td>\n",
              "      <td>108</td>\n",
              "      <td>Y</td>\n",
              "      <td>1.5</td>\n",
              "      <td>Flat</td>\n",
              "      <td>1</td>\n",
              "    </tr>\n",
              "    <tr>\n",
              "      <th>4</th>\n",
              "      <td>54</td>\n",
              "      <td>M</td>\n",
              "      <td>NAP</td>\n",
              "      <td>150</td>\n",
              "      <td>195</td>\n",
              "      <td>0</td>\n",
              "      <td>Normal</td>\n",
              "      <td>122</td>\n",
              "      <td>N</td>\n",
              "      <td>0.0</td>\n",
              "      <td>Up</td>\n",
              "      <td>0</td>\n",
              "    </tr>\n",
              "  </tbody>\n",
              "</table>\n",
              "</div>\n",
              "      <button class=\"colab-df-convert\" onclick=\"convertToInteractive('df-b7c8b091-d19b-4016-896c-577a74b93d45')\"\n",
              "              title=\"Convert this dataframe to an interactive table.\"\n",
              "              style=\"display:none;\">\n",
              "        \n",
              "  <svg xmlns=\"http://www.w3.org/2000/svg\" height=\"24px\"viewBox=\"0 0 24 24\"\n",
              "       width=\"24px\">\n",
              "    <path d=\"M0 0h24v24H0V0z\" fill=\"none\"/>\n",
              "    <path d=\"M18.56 5.44l.94 2.06.94-2.06 2.06-.94-2.06-.94-.94-2.06-.94 2.06-2.06.94zm-11 1L8.5 8.5l.94-2.06 2.06-.94-2.06-.94L8.5 2.5l-.94 2.06-2.06.94zm10 10l.94 2.06.94-2.06 2.06-.94-2.06-.94-.94-2.06-.94 2.06-2.06.94z\"/><path d=\"M17.41 7.96l-1.37-1.37c-.4-.4-.92-.59-1.43-.59-.52 0-1.04.2-1.43.59L10.3 9.45l-7.72 7.72c-.78.78-.78 2.05 0 2.83L4 21.41c.39.39.9.59 1.41.59.51 0 1.02-.2 1.41-.59l7.78-7.78 2.81-2.81c.8-.78.8-2.07 0-2.86zM5.41 20L4 18.59l7.72-7.72 1.47 1.35L5.41 20z\"/>\n",
              "  </svg>\n",
              "      </button>\n",
              "      \n",
              "  <style>\n",
              "    .colab-df-container {\n",
              "      display:flex;\n",
              "      flex-wrap:wrap;\n",
              "      gap: 12px;\n",
              "    }\n",
              "\n",
              "    .colab-df-convert {\n",
              "      background-color: #E8F0FE;\n",
              "      border: none;\n",
              "      border-radius: 50%;\n",
              "      cursor: pointer;\n",
              "      display: none;\n",
              "      fill: #1967D2;\n",
              "      height: 32px;\n",
              "      padding: 0 0 0 0;\n",
              "      width: 32px;\n",
              "    }\n",
              "\n",
              "    .colab-df-convert:hover {\n",
              "      background-color: #E2EBFA;\n",
              "      box-shadow: 0px 1px 2px rgba(60, 64, 67, 0.3), 0px 1px 3px 1px rgba(60, 64, 67, 0.15);\n",
              "      fill: #174EA6;\n",
              "    }\n",
              "\n",
              "    [theme=dark] .colab-df-convert {\n",
              "      background-color: #3B4455;\n",
              "      fill: #D2E3FC;\n",
              "    }\n",
              "\n",
              "    [theme=dark] .colab-df-convert:hover {\n",
              "      background-color: #434B5C;\n",
              "      box-shadow: 0px 1px 3px 1px rgba(0, 0, 0, 0.15);\n",
              "      filter: drop-shadow(0px 1px 2px rgba(0, 0, 0, 0.3));\n",
              "      fill: #FFFFFF;\n",
              "    }\n",
              "  </style>\n",
              "\n",
              "      <script>\n",
              "        const buttonEl =\n",
              "          document.querySelector('#df-b7c8b091-d19b-4016-896c-577a74b93d45 button.colab-df-convert');\n",
              "        buttonEl.style.display =\n",
              "          google.colab.kernel.accessAllowed ? 'block' : 'none';\n",
              "\n",
              "        async function convertToInteractive(key) {\n",
              "          const element = document.querySelector('#df-b7c8b091-d19b-4016-896c-577a74b93d45');\n",
              "          const dataTable =\n",
              "            await google.colab.kernel.invokeFunction('convertToInteractive',\n",
              "                                                     [key], {});\n",
              "          if (!dataTable) return;\n",
              "\n",
              "          const docLinkHtml = 'Like what you see? Visit the ' +\n",
              "            '<a target=\"_blank\" href=https://colab.research.google.com/notebooks/data_table.ipynb>data table notebook</a>'\n",
              "            + ' to learn more about interactive tables.';\n",
              "          element.innerHTML = '';\n",
              "          dataTable['output_type'] = 'display_data';\n",
              "          await google.colab.output.renderOutput(dataTable, element);\n",
              "          const docLink = document.createElement('div');\n",
              "          docLink.innerHTML = docLinkHtml;\n",
              "          element.appendChild(docLink);\n",
              "        }\n",
              "      </script>\n",
              "    </div>\n",
              "  </div>\n",
              "  "
            ]
          },
          "metadata": {},
          "execution_count": 41
        }
      ],
      "source": [
        "import pandas as pd\n",
        "import numpy as np\n",
        "import seaborn as sns\n",
        "import matplotlib.pyplot as plt\n",
        "from sklearn.preprocessing import StandardScaler, OneHotEncoder\n",
        "from sklearn.impute import SimpleImputer\n",
        "from sklearn.model_selection import train_test_split\n",
        "from sklearn.compose import (ColumnTransformer, make_column_selector,\n",
        "                             make_column_transformer)\n",
        "\n",
        "from sklearn.pipeline import make_pipeline\n",
        "from sklearn import set_config\n",
        "set_config(display='diagram')\n",
        "\n",
        "\n",
        "from google.colab import drive\n",
        "drive.mount('/content/drive')\n",
        "\n",
        "#https://www.kaggle.com/datasets/fedesoriano/heart-failure-prediction\n",
        "\n",
        "base_df = pd.read_csv('/content/drive/MyDrive/Coding Dojo 2022/07 Week 7: Classification Models/heart-failure-data.csv')\n",
        "df = base_df.copy()\n",
        "df.head()"
      ]
    },
    {
      "cell_type": "code",
      "source": [
        "#No duplicate values\n",
        "df.duplicated().sum()"
      ],
      "metadata": {
        "colab": {
          "base_uri": "https://localhost:8080/"
        },
        "id": "l8liLzKd4VLV",
        "outputId": "8d1e3ec2-6732-45db-f3e4-a519d42946d9"
      },
      "execution_count": null,
      "outputs": [
        {
          "output_type": "execute_result",
          "data": {
            "text/plain": [
              "0"
            ]
          },
          "metadata": {},
          "execution_count": 42
        }
      ]
    },
    {
      "cell_type": "code",
      "source": [
        "#No missing values\n",
        "df.isna().sum()"
      ],
      "metadata": {
        "colab": {
          "base_uri": "https://localhost:8080/"
        },
        "id": "e57TlPFv4H6X",
        "outputId": "476d26e8-d938-4a6e-8114-0baf1e9f4a46"
      },
      "execution_count": null,
      "outputs": [
        {
          "output_type": "execute_result",
          "data": {
            "text/plain": [
              "Age               0\n",
              "Sex               0\n",
              "ChestPainType     0\n",
              "RestingBP         0\n",
              "Cholesterol       0\n",
              "FastingBS         0\n",
              "RestingECG        0\n",
              "MaxHR             0\n",
              "ExerciseAngina    0\n",
              "Oldpeak           0\n",
              "ST_Slope          0\n",
              "HeartDisease      0\n",
              "dtype: int64"
            ]
          },
          "metadata": {},
          "execution_count": 43
        }
      ]
    },
    {
      "cell_type": "code",
      "source": [
        "df.info()"
      ],
      "metadata": {
        "colab": {
          "base_uri": "https://localhost:8080/"
        },
        "id": "V63p0b2U4hI9",
        "outputId": "a01d47d7-1ebe-4866-b9dc-fc4c6b08bddc"
      },
      "execution_count": null,
      "outputs": [
        {
          "output_type": "stream",
          "name": "stdout",
          "text": [
            "<class 'pandas.core.frame.DataFrame'>\n",
            "RangeIndex: 918 entries, 0 to 917\n",
            "Data columns (total 12 columns):\n",
            " #   Column          Non-Null Count  Dtype  \n",
            "---  ------          --------------  -----  \n",
            " 0   Age             918 non-null    int64  \n",
            " 1   Sex             918 non-null    object \n",
            " 2   ChestPainType   918 non-null    object \n",
            " 3   RestingBP       918 non-null    int64  \n",
            " 4   Cholesterol     918 non-null    int64  \n",
            " 5   FastingBS       918 non-null    int64  \n",
            " 6   RestingECG      918 non-null    object \n",
            " 7   MaxHR           918 non-null    int64  \n",
            " 8   ExerciseAngina  918 non-null    object \n",
            " 9   Oldpeak         918 non-null    float64\n",
            " 10  ST_Slope        918 non-null    object \n",
            " 11  HeartDisease    918 non-null    int64  \n",
            "dtypes: float64(1), int64(6), object(5)\n",
            "memory usage: 86.2+ KB\n"
          ]
        }
      ]
    },
    {
      "cell_type": "code",
      "source": [
        "#Checking for any odd values in categorical columns, none found!\n",
        "print(df['Sex'].unique())\n",
        "print(df['ChestPainType'].unique())\n",
        "print(df['FastingBS'].unique())\n",
        "print(df['RestingECG'].unique())\n",
        "print(df['ExerciseAngina'].unique())\n",
        "print(df['ST_Slope'].unique())\n",
        "print(df['HeartDisease'].unique())\n",
        "\n"
      ],
      "metadata": {
        "colab": {
          "base_uri": "https://localhost:8080/"
        },
        "id": "C4tHqJim6ine",
        "outputId": "a4a59383-e6f9-4760-bc48-feafe0c44312"
      },
      "execution_count": null,
      "outputs": [
        {
          "output_type": "stream",
          "name": "stdout",
          "text": [
            "['M' 'F']\n",
            "['ATA' 'NAP' 'ASY' 'TA']\n",
            "[0 1]\n",
            "['Normal' 'ST' 'LVH']\n",
            "['N' 'Y']\n",
            "['Up' 'Flat' 'Down']\n",
            "[0 1]\n"
          ]
        }
      ]
    },
    {
      "cell_type": "code",
      "source": [
        "#Histograms on categorical variables\n",
        "\n",
        "fig, axes = plt.subplots(2,4, figsize=(30,9))\n",
        "\n",
        "sns.histplot(data=df,x='Age',ax=axes[0][0]);\n",
        "sns.histplot(data=df,x='Sex',ax=axes[0][1]);\n",
        "sns.histplot(data=df,x='ChestPainType',ax=axes[0][2],bins=np.arange(5)-0.5);\n",
        "\n",
        "a = sns.histplot(data=df,x='FastingBS',ax=axes[0][3],bins=np.arange(3)-0.5);\n",
        "xlabels = ['{:,.0f}'.format(x) for x in a.get_xticks()]\n",
        "a.set_xticklabels(xlabels);\n",
        "\n",
        "sns.histplot(data=df,x='RestingECG',ax=axes[1][0],bins=np.arange(4)-0.5);\n",
        "\n",
        "sns.histplot(data=df,x='ExerciseAngina',ax=axes[1][1],bins=np.arange(3)-0.5);\n",
        "sns.histplot(data=df,x='ST_Slope',ax=axes[1][2],bins=np.arange(4)-0.5);\n",
        "b = sns.histplot(data=df,x='HeartDisease',ax=axes[1][3],bins=np.arange(3)-0.5);\n",
        "xlabels = ['{:,.0f}'.format(x) for x in b.get_xticks()]\n",
        "b.set_xticklabels(xlabels);\n",
        "\n",
        "fig.tight_layout(pad=5.0)\n",
        "\n",
        "#Most people in this study are 40 to 70 years of age and Male.\n",
        "#The dataset is mostly balanced, with more people having HeartDisease versus not.\n"
      ],
      "metadata": {
        "colab": {
          "base_uri": "https://localhost:8080/",
          "height": 579
        },
        "id": "ieXcPm9pb49h",
        "outputId": "db9b8f04-8a13-4284-f4bf-449b8d6c0e16"
      },
      "execution_count": null,
      "outputs": [
        {
          "output_type": "display_data",
          "data": {
            "text/plain": [
              "<Figure size 2160x648 with 8 Axes>"
            ],
            "image/png": "[encoded data removed]"
          },
          "metadata": {
            "needs_background": "light"
          }
        }
      ]
    },
    {
      "cell_type": "code",
      "source": [
        "#Fasting BS should really be OHE, your readings will be different but one is not more intense/severe than the other so changing numbers to text to do OHE\n",
        "df['FastingBS'].replace({1:'Fasting', 0:'Non-Fasting'}, inplace=True)\n",
        "\n",
        "#If you have ExerciseAngina that's bad, so will ordinal encode\n",
        "df['ExerciseAngina'].replace({'N':0, 'Y':1}, inplace=True)\n",
        "\n",
        "\n",
        "#ChestPainType/ECG - these probably should be ordinal encoded as Normal/Asymptomatic seem better than the other conditions but I'm not a doctor so don't know which conditions are worse than each other so will one hot encode.\n",
        "#Sex and ST_slope are more obvious candidates for one hot encoding\n"
      ],
      "metadata": {
        "id": "49F5ODmJ_aJ1"
      },
      "execution_count": null,
      "outputs": []
    },
    {
      "cell_type": "code",
      "source": [
        "#BP, Cholesterol, maxHR,old peak boxplots\n",
        "fig, axes = plt.subplots(1,4, figsize=(30,5))\n",
        "sns.boxplot(data = df, x='HeartDisease',y='RestingBP',ax=axes[0])\n",
        "sns.boxplot(data = df, x='HeartDisease',y='Cholesterol',ax=axes[1])\n",
        "sns.boxplot(data = df, x='HeartDisease',y='MaxHR',ax=axes[2])\n",
        "sns.boxplot(data = df, x='HeartDisease',y='Oldpeak',ax=axes[3])\n",
        "\n",
        "fig.tight_layout(pad=5.0)\n",
        "\n",
        "#Those with Heart disease appear to have lower cholesterol, however there are a number of 0 values skewing this\n",
        "#Those with Heart disease tend to have a lower MaxHR and higher/wider Oldpeak values."
      ],
      "metadata": {
        "colab": {
          "base_uri": "https://localhost:8080/",
          "height": 291
        },
        "id": "aw7MbV61dxiv",
        "outputId": "2c27f01a-ac59-4254-c10e-dc78fde82751"
      },
      "execution_count": null,
      "outputs": [
        {
          "output_type": "display_data",
          "data": {
            "text/plain": [
              "<Figure size 2160x360 with 4 Axes>"
            ],
            "image/png": "[encoded data removed]"
          },
          "metadata": {
            "needs_background": "light"
          }
        }
      ]
    },
    {
      "cell_type": "code",
      "source": [
        "#good resting BP is 120 mm Hg systolic/80 mm Hg diastolic at most.\n",
        "#LDL is bad, should be less than 200. HDL is good, 40 or above\n",
        "#The 0 values for BP/Cholesterol need to be imputed\n",
        "\n",
        "#df.loc[df['RestingBP']==0]\n",
        "#df.loc[df['Cholesterol'] ==0]\n"
      ],
      "metadata": {
        "id": "3L05znWyaU2E"
      },
      "execution_count": null,
      "outputs": []
    },
    {
      "cell_type": "code",
      "source": [
        "#variables don't show strong correlation with one another\n",
        "#fig, ax = plt.subplots(figsize=(10,10))\n",
        "corr = df.corr()\n",
        "sns.heatmap(corr,cmap='Blues',annot=True)"
      ],
      "metadata": {
        "colab": {
          "base_uri": "https://localhost:8080/",
          "height": 354
        },
        "id": "Rnp6xxwQgdIo",
        "outputId": "cc6724c1-3f15-4443-e7c3-59c68d6d2825"
      },
      "execution_count": null,
      "outputs": [
        {
          "output_type": "execute_result",
          "data": {
            "text/plain": [
              "<matplotlib.axes._subplots.AxesSubplot at 0x7f3801fa1c10>"
            ]
          },
          "metadata": {},
          "execution_count": 50
        },
        {
          "output_type": "display_data",
          "data": {
            "text/plain": [
              "<Figure size 432x288 with 2 Axes>"
            ],
            "image/png": "[encoded data removed]"
          },
          "metadata": {
            "needs_background": "light"
          }
        }
      ]
    },
    {
      "cell_type": "code",
      "source": [
        "X = df.drop(columns='HeartDisease')\n",
        "y = df['HeartDisease']"
      ],
      "metadata": {
        "id": "BPYn2dyohcPd"
      },
      "execution_count": null,
      "outputs": []
    },
    {
      "cell_type": "code",
      "source": [
        "#Split data into train and test sets\n",
        "X_train,X_test,y_train,y_test = train_test_split(X,y,random_state=42)"
      ],
      "metadata": {
        "id": "1_gJOtEW15KZ"
      },
      "execution_count": null,
      "outputs": []
    },
    {
      "cell_type": "code",
      "source": [
        "#For Oldpeak and FastingBS - 0 values are appropriate\n",
        "#Impute 0s to mean for BP and cholesterol as those values are not appropriate\n",
        "\n",
        "#https://stackoverflow.com/questions/59424801/replacing-rows-having-0-to-mean-of-the-column\n",
        "\n",
        "print(X_train['RestingBP'].mean())\n",
        "print(X_train['Cholesterol'].mean())\n",
        "\n",
        "\n",
        "\n",
        "bp_chol_imputer = SimpleImputer(missing_values=0,strategy='mean')\n",
        "\n",
        "c = ['RestingBP','Cholesterol']\n",
        "X_train[c] = bp_chol_imputer.fit_transform(X_train[c])\n",
        "\n",
        "print('\\n')\n",
        "print('New means after imputing:')\n",
        "print('\\n')\n",
        "print(X_train['RestingBP'].mean())\n",
        "print(X_train['Cholesterol'].mean())"
      ],
      "metadata": {
        "colab": {
          "base_uri": "https://localhost:8080/"
        },
        "id": "a8BiW2yi6N9L",
        "outputId": "f72bd732-640c-4d47-e1cd-696c38ab0dad"
      },
      "execution_count": null,
      "outputs": [
        {
          "output_type": "stream",
          "name": "stdout",
          "text": [
            "133.07703488372093\n",
            "201.63662790697674\n",
            "\n",
            "\n",
            "New means after imputing:\n",
            "\n",
            "\n",
            "133.27074235807862\n",
            "245.968085106383\n"
          ]
        }
      ]
    },
    {
      "cell_type": "code",
      "source": [
        "#Create preprocessing pipeline. \n",
        "#Imputing values based on histogram output above\n",
        "#Ordinal encoding has already been applied in previous steps, so applying Scaling and one hot encoding here\n",
        "\n",
        "cat_columns = make_column_selector(dtype_include='object')\n",
        "num_columns = make_column_selector(dtype_include='number')\n",
        "\n",
        "mean_imputer = SimpleImputer(strategy='mean')\n",
        "freq_imputer = SimpleImputer(strategy='most_frequent')\n",
        "ohe = OneHotEncoder(sparse=False, handle_unknown='ignore')\n",
        "scaler = StandardScaler()\n",
        "\n",
        "\n",
        "num_pipe = make_pipeline(mean_imputer, scaler)\n",
        "cat_pipe = make_pipeline(freq_imputer, ohe)\n",
        "\n",
        "cat_tuple = (cat_pipe, cat_columns)\n",
        "num_tuple = (num_pipe, num_columns)\n",
        "\n",
        "preprocessor = make_column_transformer(cat_tuple, num_tuple, remainder='passthrough')\n",
        "preprocessor"
      ],
      "metadata": {
        "colab": {
          "base_uri": "https://localhost:8080/",
          "height": 152
        },
        "id": "QlS3h4-l2I3n",
        "outputId": "eb7f472f-0da6-4cd8-c21e-95e0ad53495b"
      },
      "execution_count": null,
      "outputs": [
        {
          "output_type": "execute_result",
          "data": {
            "text/plain": [
              "ColumnTransformer(remainder='passthrough',\n",
              "                  transformers=[('pipeline-1',\n",
              "                                 Pipeline(steps=[('simpleimputer',\n",
              "                                                  SimpleImputer(strategy='most_frequent')),\n",
              "                                                 ('onehotencoder',\n",
              "                                                  OneHotEncoder(handle_unknown='ignore',\n",
              "                                                                sparse=False))]),\n",
              "                                 <sklearn.compose._column_transformer.make_column_selector object at 0x7f38020f5b50>),\n",
              "                                ('pipeline-2',\n",
              "                                 Pipeline(steps=[('simpleimputer',\n",
              "                                                  SimpleImputer()),\n",
              "                                                 ('standardscaler',\n",
              "                                                  StandardScaler())]),\n",
              "                                 <sklearn.compose._column_transformer.make_column_selector object at 0x7f38020f5850>)])"
            ],
            "text/html": [
              "<style>#sk-1990aadb-ac09-47b3-a0c8-3730b0cdaaf1 {color: black;background-color: white;}#sk-1990aadb-ac09-47b3-a0c8-3730b0cdaaf1 pre{padding: 0;}#sk-1990aadb-ac09-47b3-a0c8-3730b0cdaaf1 div.sk-toggleable {background-color: white;}#sk-1990aadb-ac09-47b3-a0c8-3730b0cdaaf1 label.sk-toggleable__label {cursor: pointer;display: block;width: 100%;margin-bottom: 0;padding: 0.3em;box-sizing: border-box;text-align: center;}#sk-1990aadb-ac09-47b3-a0c8-3730b0cdaaf1 label.sk-toggleable__label-arrow:before {content: \"▸\";float: left;margin-right: 0.25em;color: #696969;}#sk-1990aadb-ac09-47b3-a0c8-3730b0cdaaf1 label.sk-toggleable__label-arrow:hover:before {color: black;}#sk-1990aadb-ac09-47b3-a0c8-3730b0cdaaf1 div.sk-estimator:hover label.sk-toggleable__label-arrow:before {color: black;}#sk-1990aadb-ac09-47b3-a0c8-3730b0cdaaf1 div.sk-toggleable__content {max-height: 0;max-width: 0;overflow: hidden;text-align: left;background-color: #f0f8ff;}#sk-1990aadb-ac09-47b3-a0c8-3730b0cdaaf1 div.sk-toggleable__content pre {margin: 0.2em;color: black;border-radius: 0.25em;background-color: #f0f8ff;}#sk-1990aadb-ac09-47b3-a0c8-3730b0cdaaf1 input.sk-toggleable__control:checked~div.sk-toggleable__content {max-height: 200px;max-width: 100%;overflow: auto;}#sk-1990aadb-ac09-47b3-a0c8-3730b0cdaaf1 input.sk-toggleable__control:checked~label.sk-toggleable__label-arrow:before {content: \"▾\";}#sk-1990aadb-ac09-47b3-a0c8-3730b0cdaaf1 div.sk-estimator input.sk-toggleable__control:checked~label.sk-toggleable__label {background-color: #d4ebff;}#sk-1990aadb-ac09-47b3-a0c8-3730b0cdaaf1 div.sk-label input.sk-toggleable__control:checked~label.sk-toggleable__label {background-color: #d4ebff;}#sk-1990aadb-ac09-47b3-a0c8-3730b0cdaaf1 input.sk-hidden--visually {border: 0;clip: rect(1px 1px 1px 1px);clip: rect(1px, 1px, 1px, 1px);height: 1px;margin: -1px;overflow: hidden;padding: 0;position: absolute;width: 1px;}#sk-1990aadb-ac09-47b3-a0c8-3730b0cdaaf1 div.sk-estimator {font-family: monospace;background-color: #f0f8ff;border: 1px dotted black;border-radius: 0.25em;box-sizing: border-box;margin-bottom: 0.5em;}#sk-1990aadb-ac09-47b3-a0c8-3730b0cdaaf1 div.sk-estimator:hover {background-color: #d4ebff;}#sk-1990aadb-ac09-47b3-a0c8-3730b0cdaaf1 div.sk-parallel-item::after {content: \"\";width: 100%;border-bottom: 1px solid gray;flex-grow: 1;}#sk-1990aadb-ac09-47b3-a0c8-3730b0cdaaf1 div.sk-label:hover label.sk-toggleable__label {background-color: #d4ebff;}#sk-1990aadb-ac09-47b3-a0c8-3730b0cdaaf1 div.sk-serial::before {content: \"\";position: absolute;border-left: 1px solid gray;box-sizing: border-box;top: 2em;bottom: 0;left: 50%;}#sk-1990aadb-ac09-47b3-a0c8-3730b0cdaaf1 div.sk-serial {display: flex;flex-direction: column;align-items: center;background-color: white;padding-right: 0.2em;padding-left: 0.2em;}#sk-1990aadb-ac09-47b3-a0c8-3730b0cdaaf1 div.sk-item {z-index: 1;}#sk-1990aadb-ac09-47b3-a0c8-3730b0cdaaf1 div.sk-parallel {display: flex;align-items: stretch;justify-content: center;background-color: white;}#sk-1990aadb-ac09-47b3-a0c8-3730b0cdaaf1 div.sk-parallel::before {content: \"\";position: absolute;border-left: 1px solid gray;box-sizing: border-box;top: 2em;bottom: 0;left: 50%;}#sk-1990aadb-ac09-47b3-a0c8-3730b0cdaaf1 div.sk-parallel-item {display: flex;flex-direction: column;position: relative;background-color: white;}#sk-1990aadb-ac09-47b3-a0c8-3730b0cdaaf1 div.sk-parallel-item:first-child::after {align-self: flex-end;width: 50%;}#sk-1990aadb-ac09-47b3-a0c8-3730b0cdaaf1 div.sk-parallel-item:last-child::after {align-self: flex-start;width: 50%;}#sk-1990aadb-ac09-47b3-a0c8-3730b0cdaaf1 div.sk-parallel-item:only-child::after {width: 0;}#sk-1990aadb-ac09-47b3-a0c8-3730b0cdaaf1 div.sk-dashed-wrapped {border: 1px dashed gray;margin: 0 0.4em 0.5em 0.4em;box-sizing: border-box;padding-bottom: 0.4em;background-color: white;position: relative;}#sk-1990aadb-ac09-47b3-a0c8-3730b0cdaaf1 div.sk-label label {font-family: monospace;font-weight: bold;background-color: white;display: inline-block;line-height: 1.2em;}#sk-1990aadb-ac09-47b3-a0c8-3730b0cdaaf1 div.sk-label-container {position: relative;z-index: 2;text-align: center;}#sk-1990aadb-ac09-47b3-a0c8-3730b0cdaaf1 div.sk-container {/* jupyter's `normalize.less` sets `[hidden] { display: none; }` but bootstrap.min.css set `[hidden] { display: none !important; }` so we also need the `!important` here to be able to override the default hidden behavior on the sphinx rendered scikit-learn.org. See: https://github.com/scikit-learn/scikit-learn/issues/21755 */display: inline-block !important;position: relative;}#sk-1990aadb-ac09-47b3-a0c8-3730b0cdaaf1 div.sk-text-repr-fallback {display: none;}</style><div id=\"sk-1990aadb-ac09-47b3-a0c8-3730b0cdaaf1\" class=\"sk-top-container\"><div class=\"sk-text-repr-fallback\"><pre>ColumnTransformer(remainder=&#x27;passthrough&#x27;,\n",
              "                  transformers=[(&#x27;pipeline-1&#x27;,\n",
              "                                 Pipeline(steps=[(&#x27;simpleimputer&#x27;,\n",
              "                                                  SimpleImputer(strategy=&#x27;most_frequent&#x27;)),\n",
              "                                                 (&#x27;onehotencoder&#x27;,\n",
              "                                                  OneHotEncoder(handle_unknown=&#x27;ignore&#x27;,\n",
              "                                                                sparse=False))]),\n",
              "                                 &lt;sklearn.compose._column_transformer.make_column_selector object at 0x7f38020f5b50&gt;),\n",
              "                                (&#x27;pipeline-2&#x27;,\n",
              "                                 Pipeline(steps=[(&#x27;simpleimputer&#x27;,\n",
              "                                                  SimpleImputer()),\n",
              "                                                 (&#x27;standardscaler&#x27;,\n",
              "                                                  StandardScaler())]),\n",
              "                                 &lt;sklearn.compose._column_transformer.make_column_selector object at 0x7f38020f5850&gt;)])</pre><b>Please rerun this cell to show the HTML repr or trust the notebook.</b></div><div class=\"sk-container\" hidden><div class=\"sk-item sk-dashed-wrapped\"><div class=\"sk-label-container\"><div class=\"sk-label sk-toggleable\"><input class=\"sk-toggleable__control sk-hidden--visually\" id=\"d71b3a06-d953-42e3-a7e9-bbe168694a55\" type=\"checkbox\" ><label for=\"d71b3a06-d953-42e3-a7e9-bbe168694a55\" class=\"sk-toggleable__label sk-toggleable__label-arrow\">ColumnTransformer</label><div class=\"sk-toggleable__content\"><pre>ColumnTransformer(remainder=&#x27;passthrough&#x27;,\n",
              "                  transformers=[(&#x27;pipeline-1&#x27;,\n",
              "                                 Pipeline(steps=[(&#x27;simpleimputer&#x27;,\n",
              "                                                  SimpleImputer(strategy=&#x27;most_frequent&#x27;)),\n",
              "                                                 (&#x27;onehotencoder&#x27;,\n",
              "                                                  OneHotEncoder(handle_unknown=&#x27;ignore&#x27;,\n",
              "                                                                sparse=False))]),\n",
              "                                 &lt;sklearn.compose._column_transformer.make_column_selector object at 0x7f38020f5b50&gt;),\n",
              "                                (&#x27;pipeline-2&#x27;,\n",
              "                                 Pipeline(steps=[(&#x27;simpleimputer&#x27;,\n",
              "                                                  SimpleImputer()),\n",
              "                                                 (&#x27;standardscaler&#x27;,\n",
              "                                                  StandardScaler())]),\n",
              "                                 &lt;sklearn.compose._column_transformer.make_column_selector object at 0x7f38020f5850&gt;)])</pre></div></div></div><div class=\"sk-parallel\"><div class=\"sk-parallel-item\"><div class=\"sk-item\"><div class=\"sk-label-container\"><div class=\"sk-label sk-toggleable\"><input class=\"sk-toggleable__control sk-hidden--visually\" id=\"fb820ffd-b1bf-4d28-bf3d-3d7724486894\" type=\"checkbox\" ><label for=\"fb820ffd-b1bf-4d28-bf3d-3d7724486894\" class=\"sk-toggleable__label sk-toggleable__label-arrow\">pipeline-1</label><div class=\"sk-toggleable__content\"><pre>&lt;sklearn.compose._column_transformer.make_column_selector object at 0x7f38020f5b50&gt;</pre></div></div></div><div class=\"sk-serial\"><div class=\"sk-item\"><div class=\"sk-serial\"><div class=\"sk-item\"><div class=\"sk-estimator sk-toggleable\"><input class=\"sk-toggleable__control sk-hidden--visually\" id=\"4bd7d6a0-d20e-4b05-bd92-c0cee52514bc\" type=\"checkbox\" ><label for=\"4bd7d6a0-d20e-4b05-bd92-c0cee52514bc\" class=\"sk-toggleable__label sk-toggleable__label-arrow\">SimpleImputer</label><div class=\"sk-toggleable__content\"><pre>SimpleImputer(strategy=&#x27;most_frequent&#x27;)</pre></div></div></div><div class=\"sk-item\"><div class=\"sk-estimator sk-toggleable\"><input class=\"sk-toggleable__control sk-hidden--visually\" id=\"3f1a02be-e8ab-4ee2-a06b-f74e7dcf5eca\" type=\"checkbox\" ><label for=\"3f1a02be-e8ab-4ee2-a06b-f74e7dcf5eca\" class=\"sk-toggleable__label sk-toggleable__label-arrow\">OneHotEncoder</label><div class=\"sk-toggleable__content\"><pre>OneHotEncoder(handle_unknown=&#x27;ignore&#x27;, sparse=False)</pre></div></div></div></div></div></div></div></div><div class=\"sk-parallel-item\"><div class=\"sk-item\"><div class=\"sk-label-container\"><div class=\"sk-label sk-toggleable\"><input class=\"sk-toggleable__control sk-hidden--visually\" id=\"da76497e-cf6c-4453-82e3-27b6fe1739ef\" type=\"checkbox\" ><label for=\"da76497e-cf6c-4453-82e3-27b6fe1739ef\" class=\"sk-toggleable__label sk-toggleable__label-arrow\">pipeline-2</label><div class=\"sk-toggleable__content\"><pre>&lt;sklearn.compose._column_transformer.make_column_selector object at 0x7f38020f5850&gt;</pre></div></div></div><div class=\"sk-serial\"><div class=\"sk-item\"><div class=\"sk-serial\"><div class=\"sk-item\"><div class=\"sk-estimator sk-toggleable\"><input class=\"sk-toggleable__control sk-hidden--visually\" id=\"41408ffd-ddc9-4848-9655-a259d1a13a81\" type=\"checkbox\" ><label for=\"41408ffd-ddc9-4848-9655-a259d1a13a81\" class=\"sk-toggleable__label sk-toggleable__label-arrow\">SimpleImputer</label><div class=\"sk-toggleable__content\"><pre>SimpleImputer()</pre></div></div></div><div class=\"sk-item\"><div class=\"sk-estimator sk-toggleable\"><input class=\"sk-toggleable__control sk-hidden--visually\" id=\"5a9ce3ab-4a06-44d0-8e30-3e261a028b9e\" type=\"checkbox\" ><label for=\"5a9ce3ab-4a06-44d0-8e30-3e261a028b9e\" class=\"sk-toggleable__label sk-toggleable__label-arrow\">StandardScaler</label><div class=\"sk-toggleable__content\"><pre>StandardScaler()</pre></div></div></div></div></div></div></div></div><div class=\"sk-parallel-item\"><div class=\"sk-item\"><div class=\"sk-label-container\"><div class=\"sk-label sk-toggleable\"><input class=\"sk-toggleable__control sk-hidden--visually\" id=\"04cbe4ce-3273-4ca4-858d-84b108f66be0\" type=\"checkbox\" ><label for=\"04cbe4ce-3273-4ca4-858d-84b108f66be0\" class=\"sk-toggleable__label sk-toggleable__label-arrow\">remainder</label><div class=\"sk-toggleable__content\"><pre></pre></div></div></div><div class=\"sk-serial\"><div class=\"sk-item\"><div class=\"sk-estimator sk-toggleable\"><input class=\"sk-toggleable__control sk-hidden--visually\" id=\"8c8acc0e-1fa2-4f28-aaa0-59f6e0d680d5\" type=\"checkbox\" ><label for=\"8c8acc0e-1fa2-4f28-aaa0-59f6e0d680d5\" class=\"sk-toggleable__label sk-toggleable__label-arrow\">passthrough</label><div class=\"sk-toggleable__content\"><pre>passthrough</pre></div></div></div></div></div></div></div></div></div></div>"
            ]
          },
          "metadata": {},
          "execution_count": 54
        }
      ]
    },
    {
      "cell_type": "code",
      "source": [
        "#quick check of processed data\n",
        "X_train_processed = preprocessor.fit(X_train)\n",
        "X_train_processed = preprocessor.transform(X_train)\n",
        "X_test_processed = preprocessor.transform(X_test)\n",
        "\n",
        "\n",
        "print(np.isnan(X_train_processed).sum().sum(), 'missing values in training data')\n",
        "print(np.isnan(X_test_processed).sum().sum(), 'missing values in testing data')\n",
        "print('\\n')\n",
        "print(f'Shape of X_train: {X_train.shape}')\n",
        "print(f'Shape of X_test: {X_test.shape}')\n",
        "print('\\n')\n",
        "print('All data in X_train_processed are', X_train_processed.dtype)\n",
        "print('All data in X_test_processed are', X_test_processed.dtype)\n"
      ],
      "metadata": {
        "colab": {
          "base_uri": "https://localhost:8080/"
        },
        "id": "3c-B-CM272Y7",
        "outputId": "48a9b8b9-f3e3-488e-f9ad-4c70cf1ef47e"
      },
      "execution_count": null,
      "outputs": [
        {
          "output_type": "stream",
          "name": "stdout",
          "text": [
            "0 missing values in training data\n",
            "0 missing values in testing data\n",
            "\n",
            "\n",
            "Shape of X_train: (688, 11)\n",
            "Shape of X_test: (230, 11)\n",
            "\n",
            "\n",
            "All data in X_train_processed are float64\n",
            "All data in X_test_processed are float64\n"
          ]
        }
      ]
    }
  ]
}